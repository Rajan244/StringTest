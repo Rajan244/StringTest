{
 "cells": [
  {
   "cell_type": "code",
   "execution_count": 198,
   "id": "5ffbba74",
   "metadata": {},
   "outputs": [],
   "source": [
    "\"\"\"All functions to implement for the first part of the Techincal test.\"\"\"\n",
    "\n",
    "#   imports, no other import is allowed.\n",
    "# You don't have to necessary use them all to complete the test.\n",
    "import math\n",
    "from functools import reduce\n",
    "from math import sqrt\n",
    "from typing import Dict, List\n"
   ]
  },
  {
   "cell_type": "code",
   "execution_count": 199,
   "id": "6632e46c",
   "metadata": {},
   "outputs": [],
   "source": [
    "def unique_strings(strings_1: List[str], strings_2: List[str]) -> List[str]:   \n",
    "    #Returns a list of unique strings sorted by alphabetic order.\n",
    "        # 1\n",
    "        \n",
    "    # Arguments\n",
    "    con = strings_1 + strings_2\n",
    "        \n",
    "    ## Result\n",
    "    result = sorted(set(con)) \n",
    "    return [result]\n"
   ]
  },
  {
   "cell_type": "code",
   "execution_count": 200,
   "id": "44a6f2b8",
   "metadata": {},
   "outputs": [],
   "source": [
    "def unique_multiple_strings(*args: List[str]) -> List[str]:\n",
    "    #Returns a list of unique strings sorted by alphabetic order with multiples arguments.\n",
    "    \n",
    "    result = sorted(set(sum(args,[])))\n",
    "    \n",
    "    return(result)"
   ]
  },
  {
   "cell_type": "code",
   "execution_count": 307,
   "id": "0b004dc2",
   "metadata": {},
   "outputs": [],
   "source": [
    "\n",
    "class Word():\n",
    "    \n",
    "    def __init__(self, word: str) -> None:\n",
    "        \n",
    "        self._w = word # we use an underscore '_' to specify a private variable \n",
    "\n",
    "    def get_word(self) -> str:\n",
    "        self._word = str.lower(self._w)\n",
    "        return self._word\n",
    "\n",
    "    def is_palindrome(self) -> bool: \n",
    "        self._word = self.get_word()\n",
    "        return self._word == self._word[::-1]\n",
    "        \n",
    "    def is_kalindrome(self) -> bool:\n",
    "        self._word = self.get_word()\n",
    "        for i in range(0, int(len(self._word)/2)):\n",
    "            if self._word[i] == self._word[len(self._word)-i-1]:\n",
    "                return True,\"Nothing to remove\"\n",
    "            else:\n",
    "                self._word1 = self._word.replace(self._word[i], '')\n",
    "                if self._word1[i] == self._word[len(self._word)-i-1]:\n",
    "                    return True,\"need to remove\"+\" \"+ self._word[i]\n",
    "                else:\n",
    "                    return False"
   ]
  },
  {
   "cell_type": "code",
   "execution_count": 312,
   "id": "db171941",
   "metadata": {},
   "outputs": [
    {
     "name": "stdout",
     "output_type": "stream",
     "text": [
      "[['a', 'b', 'c', 'd', 'e', 'f']]\n",
      "['a', 'b', 'c', 'd', 'e', 'f', 'g', 'h', 'i', 'j', 'k', 'l']\n",
      "(True, 'Nothing to remove')\n",
      "True\n",
      "True\n",
      "False\n",
      "False\n",
      "(True, 'need to remove r')\n",
      "(True, 'Nothing to remove')\n",
      "False\n"
     ]
    }
   ],
   "source": [
    "if __name__ == \"__main__\":\n",
    "    # Here is some material to test your code:\n",
    "    strings_test_1 = [\"a\",\"b\",\"c\",\"d\"]\n",
    "    strings_test_2 = [\"a\",\"d\",\"e\",\"f\"]\n",
    "    strings_test_3 = [\"b\",\"d\",\"f\",\"g\",\"h\",\"i\"]\n",
    "    strings_test_4 = [\"i\",\"j\",\"k\",\"l\",\"e\"]\n",
    "    simple = unique_strings(strings_test_1, strings_test_2)\n",
    "    print(simple)\n",
    "    multiples = unique_multiple_strings(\n",
    "        strings_test_4, \n",
    "        strings_test_3,\n",
    "        strings_test_1,\n",
    "        strings_test_2\n",
    "    )\n",
    "    print(multiples)\n",
    "    \n",
    "    print(Word(\"anna\").is_kalindrome()) # True\n",
    "    print(Word(\"anna\").is_palindrome()) # True\n",
    "    print(Word(\"bob\").is_palindrome()) # True\n",
    "    print(Word(\"alex\").is_palindrome()) # False\n",
    "    print(Word(\"melvil\").is_palindrome()) # False\n",
    "    print(Word(\"yolo\").is_kalindrome()) # True\n",
    "    print(Word(\"olo\").is_kalindrome()) # True\n",
    "    print(Word(\"alo\").is_kalindrome()) # False"
   ]
  },
  {
   "cell_type": "code",
   "execution_count": null,
   "id": "9df07622",
   "metadata": {},
   "outputs": [],
   "source": []
  }
 ],
 "metadata": {
  "kernelspec": {
   "display_name": "Python 3",
   "language": "python",
   "name": "python3"
  },
  "language_info": {
   "codemirror_mode": {
    "name": "ipython",
    "version": 3
   },
   "file_extension": ".py",
   "mimetype": "text/x-python",
   "name": "python",
   "nbconvert_exporter": "python",
   "pygments_lexer": "ipython3",
   "version": "3.8.8"
  }
 },
 "nbformat": 4,
 "nbformat_minor": 5
}
